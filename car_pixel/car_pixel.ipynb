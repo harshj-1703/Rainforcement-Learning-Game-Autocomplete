{
 "cells": [
  {
   "cell_type": "code",
   "execution_count": 1,
   "metadata": {},
   "outputs": [
    {
     "name": "stdout",
     "output_type": "stream",
     "text": [
      "Collecting git+https://github.com/DLR-RM/stable-baselines3\n",
      "  Cloning https://github.com/DLR-RM/stable-baselines3 to c:\\users\\asus\\appdata\\local\\temp\\pip-req-build-004sgkb2\n",
      "  Resolved https://github.com/DLR-RM/stable-baselines3 to commit 6d55a09f810bc0d7d38ad04ade92f2b720308b58\n",
      "  Preparing metadata (setup.py): started\n",
      "  Preparing metadata (setup.py): finished with status 'done'\n",
      "Requirement already satisfied: gym==0.21 in c:\\users\\asus\\appdata\\local\\programs\\python\\python310\\lib\\site-packages (from stable-baselines3==1.7.0a5) (0.21.0)\n",
      "Requirement already satisfied: numpy in c:\\users\\asus\\appdata\\local\\programs\\python\\python310\\lib\\site-packages (from stable-baselines3==1.7.0a5) (1.23.5)\n",
      "Requirement already satisfied: torch>=1.11 in c:\\users\\asus\\appdata\\local\\programs\\python\\python310\\lib\\site-packages (from stable-baselines3==1.7.0a5) (1.13.0)\n",
      "Requirement already satisfied: cloudpickle in c:\\users\\asus\\appdata\\local\\programs\\python\\python310\\lib\\site-packages (from stable-baselines3==1.7.0a5) (2.2.0)\n",
      "Requirement already satisfied: pandas in c:\\users\\asus\\appdata\\local\\programs\\python\\python310\\lib\\site-packages (from stable-baselines3==1.7.0a5) (1.5.2)\n",
      "Requirement already satisfied: matplotlib in c:\\users\\asus\\appdata\\local\\programs\\python\\python310\\lib\\site-packages (from stable-baselines3==1.7.0a5) (3.5.1)\n",
      "Requirement already satisfied: importlib-metadata~=4.13 in c:\\users\\asus\\appdata\\local\\programs\\python\\python310\\lib\\site-packages (from stable-baselines3==1.7.0a5) (4.13.0)\n",
      "Requirement already satisfied: zipp>=0.5 in c:\\users\\asus\\appdata\\local\\programs\\python\\python310\\lib\\site-packages (from importlib-metadata~=4.13->stable-baselines3==1.7.0a5) (3.11.0)\n",
      "Requirement already satisfied: typing-extensions in c:\\users\\asus\\appdata\\local\\programs\\python\\python310\\lib\\site-packages (from torch>=1.11->stable-baselines3==1.7.0a5) (4.4.0)\n",
      "Requirement already satisfied: pillow>=6.2.0 in c:\\users\\asus\\appdata\\local\\programs\\python\\python310\\lib\\site-packages (from matplotlib->stable-baselines3==1.7.0a5) (9.1.0)\n",
      "Requirement already satisfied: python-dateutil>=2.7 in c:\\users\\asus\\appdata\\local\\programs\\python\\python310\\lib\\site-packages (from matplotlib->stable-baselines3==1.7.0a5) (2.8.2)\n",
      "Requirement already satisfied: packaging>=20.0 in c:\\users\\asus\\appdata\\local\\programs\\python\\python310\\lib\\site-packages (from matplotlib->stable-baselines3==1.7.0a5) (21.3)\n",
      "Requirement already satisfied: cycler>=0.10 in c:\\users\\asus\\appdata\\local\\programs\\python\\python310\\lib\\site-packages (from matplotlib->stable-baselines3==1.7.0a5) (0.11.0)\n",
      "Requirement already satisfied: kiwisolver>=1.0.1 in c:\\users\\asus\\appdata\\local\\programs\\python\\python310\\lib\\site-packages (from matplotlib->stable-baselines3==1.7.0a5) (1.4.2)\n",
      "Requirement already satisfied: fonttools>=4.22.0 in c:\\users\\asus\\appdata\\local\\programs\\python\\python310\\lib\\site-packages (from matplotlib->stable-baselines3==1.7.0a5) (4.32.0)\n",
      "Requirement already satisfied: pyparsing>=2.2.1 in c:\\users\\asus\\appdata\\local\\programs\\python\\python310\\lib\\site-packages (from matplotlib->stable-baselines3==1.7.0a5) (3.0.8)\n",
      "Requirement already satisfied: pytz>=2020.1 in c:\\users\\asus\\appdata\\local\\programs\\python\\python310\\lib\\site-packages (from pandas->stable-baselines3==1.7.0a5) (2022.6)\n",
      "Requirement already satisfied: six>=1.5 in c:\\users\\asus\\appdata\\local\\programs\\python\\python310\\lib\\site-packages (from python-dateutil>=2.7->matplotlib->stable-baselines3==1.7.0a5) (1.16.0)\n",
      "Building wheels for collected packages: stable-baselines3\n",
      "  Building wheel for stable-baselines3 (setup.py): started\n",
      "  Building wheel for stable-baselines3 (setup.py): finished with status 'done'\n",
      "  Created wheel for stable-baselines3: filename=stable_baselines3-1.7.0a5-py3-none-any.whl size=170445 sha256=22cb390a129423e2fb0310ceb5ada97e126247d0d2b9e46b65d4412c4547a0dd\n",
      "  Stored in directory: C:\\Users\\asus\\AppData\\Local\\Temp\\pip-ephem-wheel-cache-k38fkbn7\\wheels\\3b\\24\\65\\bc2794face336930a72bdbe36faf5aad6e2352b3d1dec310ca\n",
      "Successfully built stable-baselines3\n",
      "Installing collected packages: stable-baselines3\n",
      "  Attempting uninstall: stable-baselines3\n",
      "    Found existing installation: stable-baselines3 1.6.2\n",
      "    Uninstalling stable-baselines3-1.6.2:\n",
      "      Successfully uninstalled stable-baselines3-1.6.2\n",
      "Successfully installed stable-baselines3-1.7.0a5\n",
      "Note: you may need to restart the kernel to use updated packages.\n"
     ]
    },
    {
     "name": "stderr",
     "output_type": "stream",
     "text": [
      "  Running command git clone --filter=blob:none --quiet https://github.com/DLR-RM/stable-baselines3 'C:\\Users\\asus\\AppData\\Local\\Temp\\pip-req-build-004sgkb2'\n"
     ]
    }
   ],
   "source": [
    "%pip install git+https://github.com/DLR-RM/stable-baselines3"
   ]
  },
  {
   "cell_type": "code",
   "execution_count": 2,
   "metadata": {},
   "outputs": [
    {
     "name": "stdout",
     "output_type": "stream",
     "text": [
      "Collecting git+https://github.com/eleurent/highway-env\n",
      "  Cloning https://github.com/eleurent/highway-env to c:\\users\\asus\\appdata\\local\\temp\\pip-req-build-kbcqb43j\n",
      "  Resolved https://github.com/eleurent/highway-env to commit 392e74fdcdc66fd792bcd328204920c26355bee6\n",
      "  Installing build dependencies: started\n",
      "  Installing build dependencies: finished with status 'done'\n",
      "  Getting requirements to build wheel: started\n",
      "  Getting requirements to build wheel: finished with status 'done'\n",
      "  Installing backend dependencies: started\n",
      "  Installing backend dependencies: finished with status 'done'\n",
      "  Preparing metadata (pyproject.toml): started\n",
      "  Preparing metadata (pyproject.toml): finished with status 'done'\n",
      "Requirement already satisfied: numpy in c:\\users\\asus\\appdata\\local\\programs\\python\\python310\\lib\\site-packages (from highway-env==1.7) (1.23.5)\n",
      "Requirement already satisfied: scipy in c:\\users\\asus\\appdata\\local\\programs\\python\\python310\\lib\\site-packages (from highway-env==1.7) (1.8.0)\n",
      "Requirement already satisfied: pandas in c:\\users\\asus\\appdata\\local\\programs\\python\\python310\\lib\\site-packages (from highway-env==1.7) (1.5.2)\n",
      "Requirement already satisfied: matplotlib in c:\\users\\asus\\appdata\\local\\programs\\python\\python310\\lib\\site-packages (from highway-env==1.7) (3.5.1)\n",
      "Collecting gym>=0.26\n",
      "  Using cached gym-0.26.2.tar.gz (721 kB)\n",
      "  Installing build dependencies: started\n",
      "  Installing build dependencies: finished with status 'done'\n",
      "  Getting requirements to build wheel: started\n",
      "  Getting requirements to build wheel: finished with status 'done'\n",
      "  Preparing metadata (pyproject.toml): started\n",
      "  Preparing metadata (pyproject.toml): finished with status 'done'\n",
      "Collecting pygame>=2.0.2\n",
      "  Downloading pygame-2.1.2-cp310-cp310-win_amd64.whl (8.4 MB)\n",
      "     ---------------------------------------- 8.4/8.4 MB 753.0 kB/s eta 0:00:00\n",
      "Requirement already satisfied: cloudpickle>=1.2.0 in c:\\users\\asus\\appdata\\local\\programs\\python\\python310\\lib\\site-packages (from gym>=0.26->highway-env==1.7) (2.2.0)\n",
      "Requirement already satisfied: gym-notices>=0.0.4 in c:\\users\\asus\\appdata\\local\\programs\\python\\python310\\lib\\site-packages (from gym>=0.26->highway-env==1.7) (0.0.8)\n",
      "Requirement already satisfied: cycler>=0.10 in c:\\users\\asus\\appdata\\local\\programs\\python\\python310\\lib\\site-packages (from matplotlib->highway-env==1.7) (0.11.0)\n",
      "Requirement already satisfied: kiwisolver>=1.0.1 in c:\\users\\asus\\appdata\\local\\programs\\python\\python310\\lib\\site-packages (from matplotlib->highway-env==1.7) (1.4.2)\n",
      "Requirement already satisfied: packaging>=20.0 in c:\\users\\asus\\appdata\\local\\programs\\python\\python310\\lib\\site-packages (from matplotlib->highway-env==1.7) (21.3)\n",
      "Requirement already satisfied: fonttools>=4.22.0 in c:\\users\\asus\\appdata\\local\\programs\\python\\python310\\lib\\site-packages (from matplotlib->highway-env==1.7) (4.32.0)\n",
      "Requirement already satisfied: pillow>=6.2.0 in c:\\users\\asus\\appdata\\local\\programs\\python\\python310\\lib\\site-packages (from matplotlib->highway-env==1.7) (9.1.0)\n",
      "Requirement already satisfied: python-dateutil>=2.7 in c:\\users\\asus\\appdata\\local\\programs\\python\\python310\\lib\\site-packages (from matplotlib->highway-env==1.7) (2.8.2)\n",
      "Requirement already satisfied: pyparsing>=2.2.1 in c:\\users\\asus\\appdata\\local\\programs\\python\\python310\\lib\\site-packages (from matplotlib->highway-env==1.7) (3.0.8)\n",
      "Requirement already satisfied: pytz>=2020.1 in c:\\users\\asus\\appdata\\local\\programs\\python\\python310\\lib\\site-packages (from pandas->highway-env==1.7) (2022.6)\n",
      "Requirement already satisfied: six>=1.5 in c:\\users\\asus\\appdata\\local\\programs\\python\\python310\\lib\\site-packages (from python-dateutil>=2.7->matplotlib->highway-env==1.7) (1.16.0)\n",
      "Building wheels for collected packages: highway-env, gym\n",
      "  Building wheel for highway-env (pyproject.toml): started\n",
      "  Building wheel for highway-env (pyproject.toml): finished with status 'done'\n",
      "  Created wheel for highway-env: filename=highway_env-1.7-py3-none-any.whl size=103892 sha256=41afea3ff8e6eea39cba471768ed31b6a8d3d8fce1b7d7ec3c7e98696ad30ea3\n",
      "  Stored in directory: C:\\Users\\asus\\AppData\\Local\\Temp\\pip-ephem-wheel-cache-ba9k6ess\\wheels\\ef\\2f\\6d\\3a938641a628175970386038dafd5a98053b743e9c0480c57d\n",
      "  Building wheel for gym (pyproject.toml): started\n",
      "  Building wheel for gym (pyproject.toml): finished with status 'done'\n",
      "  Created wheel for gym: filename=gym-0.26.2-py3-none-any.whl size=827641 sha256=4c1dc0bd485abccb60b3c6389a64710e9a2d8edbf69fef9302b841ed6e0f336c\n",
      "  Stored in directory: c:\\users\\asus\\appdata\\local\\pip\\cache\\wheels\\ae\\5f\\67\\64914473eb34e9ba89dbc7eefe7e9be8f6673fbc6f0273b29f\n",
      "Successfully built highway-env gym\n",
      "Installing collected packages: pygame, gym, highway-env\n",
      "  Attempting uninstall: gym\n",
      "    Found existing installation: gym 0.21.0\n",
      "    Uninstalling gym-0.21.0:\n",
      "      Successfully uninstalled gym-0.21.0\n",
      "Successfully installed gym-0.26.2 highway-env-1.7 pygame-2.1.2\n",
      "Note: you may need to restart the kernel to use updated packages.\n"
     ]
    },
    {
     "name": "stderr",
     "output_type": "stream",
     "text": [
      "  Running command git clone --filter=blob:none --quiet https://github.com/eleurent/highway-env 'C:\\Users\\asus\\AppData\\Local\\Temp\\pip-req-build-kbcqb43j'\n",
      "ERROR: pip's dependency resolver does not currently take into account all the packages that are installed. This behaviour is the source of the following dependency conflicts.\n",
      "stable-baselines3 1.7.0a5 requires gym==0.21, but you have gym 0.26.2 which is incompatible.\n"
     ]
    }
   ],
   "source": [
    "# Install highway-env\n",
    "%pip install git+https://github.com/eleurent/highway-env"
   ]
  },
  {
   "cell_type": "code",
   "execution_count": 19,
   "metadata": {},
   "outputs": [],
   "source": [
    "import gym\n",
    "import highway_env\n",
    "import numpy as np\n",
    "\n",
    "from stable_baselines3 import HER, SAC, DDPG\n",
    "from stable_baselines3 import HerReplayBuffer, DDPG, DQN, SAC, TD3\n",
    "from stable_baselines3.common.noise import NormalActionNoise"
   ]
  },
  {
   "cell_type": "code",
   "execution_count": 17,
   "metadata": {},
   "outputs": [
    {
     "name": "stderr",
     "output_type": "stream",
     "text": [
      "c:\\Users\\asus\\AppData\\Local\\Programs\\Python\\Python310\\lib\\site-packages\\gym\\utils\\passive_env_checker.py:31: UserWarning: \u001b[33mWARN: A Box observation space has an unconventional shape (neither an image, nor a 1D vector). We recommend flattening the observation to have only a 1D vector or use a custom policy to properly process the data. Actual observation shape: (5, 5)\u001b[0m\n",
      "  logger.warn(\n"
     ]
    }
   ],
   "source": [
    "env = gym.make(\"roundabout-v0\")"
   ]
  },
  {
   "cell_type": "code",
   "execution_count": 26,
   "metadata": {},
   "outputs": [
    {
     "ename": "AttributeError",
     "evalue": "'str' object has no attribute 'observation_space'",
     "output_type": "error",
     "traceback": [
      "\u001b[1;31m---------------------------------------------------------------------------\u001b[0m",
      "\u001b[1;31mAttributeError\u001b[0m                            Traceback (most recent call last)",
      "Cell \u001b[1;32mIn[26], line 2\u001b[0m\n\u001b[0;32m      1\u001b[0m \u001b[39m# SAC hyperparams:\u001b[39;00m\n\u001b[1;32m----> 2\u001b[0m model \u001b[39m=\u001b[39m HerReplayBuffer(\u001b[39m'\u001b[39;49m\u001b[39mMlpPolicy\u001b[39;49m\u001b[39m'\u001b[39;49m, env, SAC, n_sampled_goal\u001b[39m=\u001b[39;49m\u001b[39m4\u001b[39;49m,\n\u001b[0;32m      3\u001b[0m             goal_selection_strategy\u001b[39m=\u001b[39;49m\u001b[39m'\u001b[39;49m\u001b[39mfuture\u001b[39;49m\u001b[39m'\u001b[39;49m, online_sampling\u001b[39m=\u001b[39;49m\u001b[39mTrue\u001b[39;49;00m,max_episode_length\u001b[39m=\u001b[39;49m\u001b[39m100\u001b[39;49m)\n",
      "File \u001b[1;32mc:\\Users\\asus\\AppData\\Local\\Programs\\Python\\Python310\\lib\\site-packages\\stable_baselines3\\her\\her_replay_buffer.py:85\u001b[0m, in \u001b[0;36mHerReplayBuffer.__init__\u001b[1;34m(self, env, buffer_size, device, replay_buffer, max_episode_length, n_sampled_goal, goal_selection_strategy, online_sampling, handle_timeout_termination)\u001b[0m\n\u001b[0;32m     72\u001b[0m \u001b[39mdef\u001b[39;00m \u001b[39m__init__\u001b[39m(\n\u001b[0;32m     73\u001b[0m     \u001b[39mself\u001b[39m,\n\u001b[0;32m     74\u001b[0m     env: VecEnv,\n\u001b[1;32m   (...)\u001b[0m\n\u001b[0;32m     82\u001b[0m     handle_timeout_termination: \u001b[39mbool\u001b[39m \u001b[39m=\u001b[39m \u001b[39mTrue\u001b[39;00m,\n\u001b[0;32m     83\u001b[0m ):\n\u001b[1;32m---> 85\u001b[0m     \u001b[39msuper\u001b[39m()\u001b[39m.\u001b[39m\u001b[39m__init__\u001b[39m(buffer_size, env\u001b[39m.\u001b[39;49mobservation_space, env\u001b[39m.\u001b[39maction_space, device, env\u001b[39m.\u001b[39mnum_envs)\n\u001b[0;32m     87\u001b[0m     \u001b[39m# convert goal_selection_strategy into GoalSelectionStrategy if string\u001b[39;00m\n\u001b[0;32m     88\u001b[0m     \u001b[39mif\u001b[39;00m \u001b[39misinstance\u001b[39m(goal_selection_strategy, \u001b[39mstr\u001b[39m):\n",
      "\u001b[1;31mAttributeError\u001b[0m: 'str' object has no attribute 'observation_space'"
     ]
    }
   ],
   "source": [
    "# SAC hyperparams:\n",
    "model = HerReplayBuffer('MlpPolicy', env, SAC, n_sampled_goal=4,\n",
    "            goal_selection_strategy='future', online_sampling=True,max_episode_length=100)"
   ]
  }
 ],
 "metadata": {
  "kernelspec": {
   "display_name": "Python 3",
   "language": "python",
   "name": "python3"
  },
  "language_info": {
   "codemirror_mode": {
    "name": "ipython",
    "version": 3
   },
   "file_extension": ".py",
   "mimetype": "text/x-python",
   "name": "python",
   "nbconvert_exporter": "python",
   "pygments_lexer": "ipython3",
   "version": "3.10.5 (tags/v3.10.5:f377153, Jun  6 2022, 16:14:13) [MSC v.1929 64 bit (AMD64)]"
  },
  "orig_nbformat": 4,
  "vscode": {
   "interpreter": {
    "hash": "876db7d3f8682b7e4c5477e5f1e2dc2bd1b19fe05d9aabd59218369070754b39"
   }
  }
 },
 "nbformat": 4,
 "nbformat_minor": 2
}
